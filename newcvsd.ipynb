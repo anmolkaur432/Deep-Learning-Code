{
  "nbformat": 4,
  "nbformat_minor": 0,
  "metadata": {
    "colab": {
      "provenance": [],
      "gpuType": "T4"
    },
    "kernelspec": {
      "name": "python3",
      "display_name": "Python 3"
    },
    "language_info": {
      "name": "python"
    },
    "accelerator": "GPU"
  },
  "cells": [
    {
      "cell_type": "code",
      "execution_count": 1,
      "metadata": {
        "colab": {
          "base_uri": "https://localhost:8080/"
        },
        "id": "5uAYT3x8XE5V",
        "outputId": "d8ea65ab-f370-4db3-c301-dbd53de57650"
      },
      "outputs": [
        {
          "output_type": "stream",
          "name": "stdout",
          "text": [
            "cp: cannot stat 'kaggle.json': No such file or directory\n"
          ]
        }
      ],
      "source": [
        "!mkdir -p ~/.kaggle\n",
        "!cp kaggle.json ~/.kaggle/"
      ]
    },
    {
      "cell_type": "code",
      "source": [
        "!kaggle datasets download -d arnaudeq/cats-vs-dogs-1000"
      ],
      "metadata": {
        "colab": {
          "base_uri": "https://localhost:8080/"
        },
        "id": "Bmhrm_d1aMqG",
        "outputId": "fc42d48d-ce20-4702-f4b2-60d2485b0886"
      },
      "execution_count": 6,
      "outputs": [
        {
          "output_type": "stream",
          "name": "stdout",
          "text": [
            "Dataset URL: https://www.kaggle.com/datasets/arnaudeq/cats-vs-dogs-1000\n",
            "License(s): unknown\n",
            "Downloading cats-vs-dogs-1000.zip to /content\n",
            " 99% 175M/177M [00:07<00:00, 22.3MB/s]\n",
            "100% 177M/177M [00:07<00:00, 23.6MB/s]\n"
          ]
        }
      ]
    },
    {
      "cell_type": "code",
      "source": [
        "import zipfile\n",
        "zip_ref = zipfile.ZipFile('/content/cats-vs-dogs-1000.zip', 'r')\n",
        "zip_ref.extractall('/content')\n",
        "zip_ref.close()"
      ],
      "metadata": {
        "id": "wRpJJjZoak7O"
      },
      "execution_count": 7,
      "outputs": []
    },
    {
      "cell_type": "code",
      "source": [
        "import pandas as pd\n",
        "import matplotlib.pyplot as plt\n",
        "import numpy as np\n",
        "from sklearn.preprocessing import MinMaxScaler\n",
        "import tensorflow as tf\n",
        "import keras\n",
        "from tensorflow.keras.preprocessing.image import ImageDataGenerator\n",
        "from PIL import UnidentifiedImageError, Image\n",
        "from tensorflow.keras import Model\n",
        "from tensorflow.keras.models import Sequential\n",
        "from tensorflow.keras.utils import to_categorical\n",
        "from tensorflow.keras.losses import categorical_crossentropy\n",
        "from tensorflow.keras.preprocessing.image import ImageDataGenerator\n",
        "from tensorflow.keras.layers import Dense, Flatten, Conv2D, MaxPooling2D, Dropout"
      ],
      "metadata": {
        "id": "GBknVdtZbsQY"
      },
      "execution_count": 8,
      "outputs": []
    },
    {
      "cell_type": "code",
      "source": [
        "train_ds=keras.utils.image_dataset_from_directory(\n",
        "    directory='/content/dogs_cats_sample_1000/train',\n",
        "    labels='inferred',\n",
        "    label_mode='int',\n",
        "    batch_size=32,\n",
        "    image_size=(256,256)\n",
        ")"
      ],
      "metadata": {
        "colab": {
          "base_uri": "https://localhost:8080/"
        },
        "id": "y7VB1WhFb5en",
        "outputId": "3d5f6f7b-f717-4dca-fccd-3777fa0064eb"
      },
      "execution_count": 9,
      "outputs": [
        {
          "output_type": "stream",
          "name": "stdout",
          "text": [
            "Found 2000 files belonging to 2 classes.\n"
          ]
        }
      ]
    },
    {
      "cell_type": "code",
      "source": [
        "test_ds=keras.utils.image_dataset_from_directory(\n",
        "    directory='/content/dogs_cats_sample_1000/valid',\n",
        "    labels='inferred',\n",
        "    label_mode='int',\n",
        "    batch_size=32,\n",
        "    image_size=(256,256)\n",
        ")"
      ],
      "metadata": {
        "colab": {
          "base_uri": "https://localhost:8080/"
        },
        "id": "GYEjAmkJcO2n",
        "outputId": "e0cdf508-bf95-4972-da07-9a8a9168a1db"
      },
      "execution_count": 10,
      "outputs": [
        {
          "output_type": "stream",
          "name": "stdout",
          "text": [
            "Found 2000 files belonging to 2 classes.\n"
          ]
        }
      ]
    },
    {
      "cell_type": "code",
      "source": [
        "#normalise\n",
        "def process(image,label):\n",
        "  image=tf.cast(image/255. ,tf.float32)\n",
        "  return image,label\n",
        "train_ds=train_ds.map(process)\n",
        "test_ds=test_ds.map(process)"
      ],
      "metadata": {
        "id": "bFy6q2Myclj1"
      },
      "execution_count": 11,
      "outputs": []
    },
    {
      "cell_type": "code",
      "source": [
        "from tensorflow.keras.layers import BatchNormalization\n",
        "from tensorflow.keras.optimizers import Adam\n",
        "def ANk():\n",
        "    model = Sequential()\n",
        "\n",
        "    # 1st Convolutional Layer\n",
        "    model.add(Conv2D(filters=32, kernel_size=(3,3),padding='valid', activation='relu', input_shape=(256,256,3)))\n",
        "    model.add(BatchNormalization())\n",
        "    model.add(MaxPooling2D(pool_size=(2,2), strides=2,padding='valid'))\n",
        "\n",
        "    # 2nd Convolutional Layer\n",
        "    model.add(Conv2D(filters=64, kernel_size=(3,3),padding='valid', activation='relu'))\n",
        "    model.add(BatchNormalization())\n",
        "    model.add(MaxPooling2D(pool_size=(2,2), strides=2,padding='valid'))\n",
        "\n",
        "    # 3rd Convolutional Layer\n",
        "    model.add(Conv2D(filters=128, kernel_size=(3,3),padding='valid', activation='relu'))\n",
        "    model.add(BatchNormalization())\n",
        "    model.add(MaxPooling2D(pool_size=(2,2), strides=2,padding='valid'))\n",
        "\n",
        "    # Fully Connected Layers\n",
        "    model.add(Flatten())\n",
        "    model.add(Dense(units=128, activation='relu'))\n",
        "    model.add(Dropout(0.1))\n",
        "    model.add(Dense(units=64, activation='relu'))\n",
        "    model.add(Dropout(0.5))\n",
        "\n",
        "    # Output Layer\n",
        "    model.add(Dense(units=1, activation='sigmoid'))  # For binary classification\n",
        "\n",
        "    # Compile the model\n",
        "    optimizer = Adam(learning_rate=0.001)\n",
        "    model.compile(optimizer=optimizer,\n",
        "                  loss='binary_crossentropy',\n",
        "                  metrics=['accuracy'])\n",
        "\n",
        "    return model\n",
        "model=ANk()"
      ],
      "metadata": {
        "id": "h7Dzs-kudyPo"
      },
      "execution_count": 15,
      "outputs": []
    },
    {
      "cell_type": "code",
      "source": [
        "model.summary()"
      ],
      "metadata": {
        "colab": {
          "base_uri": "https://localhost:8080/"
        },
        "id": "GvHLZ54neSUu",
        "outputId": "52dcff64-f2c2-4236-ad1f-8e013eb9f5ed"
      },
      "execution_count": 16,
      "outputs": [
        {
          "output_type": "stream",
          "name": "stdout",
          "text": [
            "Model: \"sequential_1\"\n",
            "_________________________________________________________________\n",
            " Layer (type)                Output Shape              Param #   \n",
            "=================================================================\n",
            " conv2d_5 (Conv2D)           (None, 254, 254, 32)      896       \n",
            "                                                                 \n",
            " batch_normalization (Batch  (None, 254, 254, 32)      128       \n",
            " Normalization)                                                  \n",
            "                                                                 \n",
            " max_pooling2d_3 (MaxPoolin  (None, 127, 127, 32)      0         \n",
            " g2D)                                                            \n",
            "                                                                 \n",
            " conv2d_6 (Conv2D)           (None, 125, 125, 64)      18496     \n",
            "                                                                 \n",
            " batch_normalization_1 (Bat  (None, 125, 125, 64)      256       \n",
            " chNormalization)                                                \n",
            "                                                                 \n",
            " max_pooling2d_4 (MaxPoolin  (None, 62, 62, 64)        0         \n",
            " g2D)                                                            \n",
            "                                                                 \n",
            " conv2d_7 (Conv2D)           (None, 60, 60, 128)       73856     \n",
            "                                                                 \n",
            " batch_normalization_2 (Bat  (None, 60, 60, 128)       512       \n",
            " chNormalization)                                                \n",
            "                                                                 \n",
            " max_pooling2d_5 (MaxPoolin  (None, 30, 30, 128)       0         \n",
            " g2D)                                                            \n",
            "                                                                 \n",
            " flatten_1 (Flatten)         (None, 115200)            0         \n",
            "                                                                 \n",
            " dense_3 (Dense)             (None, 128)               14745728  \n",
            "                                                                 \n",
            " dropout_2 (Dropout)         (None, 128)               0         \n",
            "                                                                 \n",
            " dense_4 (Dense)             (None, 64)                8256      \n",
            "                                                                 \n",
            " dropout_3 (Dropout)         (None, 64)                0         \n",
            "                                                                 \n",
            " dense_5 (Dense)             (None, 1)                 65        \n",
            "                                                                 \n",
            "=================================================================\n",
            "Total params: 14848193 (56.64 MB)\n",
            "Trainable params: 14847745 (56.64 MB)\n",
            "Non-trainable params: 448 (1.75 KB)\n",
            "_________________________________________________________________\n"
          ]
        }
      ]
    },
    {
      "cell_type": "code",
      "source": [
        "history=model.fit(train_ds, epochs=10, validation_data=test_ds)"
      ],
      "metadata": {
        "colab": {
          "base_uri": "https://localhost:8080/"
        },
        "id": "eEH78erRe8ef",
        "outputId": "ee27e3bb-4aaa-45a3-b1e8-fcea6ef278b2"
      },
      "execution_count": 17,
      "outputs": [
        {
          "output_type": "stream",
          "name": "stdout",
          "text": [
            "Epoch 1/10\n",
            "63/63 [==============================] - 18s 177ms/step - loss: 6.4296 - accuracy: 0.5440 - val_loss: 16.9692 - val_accuracy: 0.5010\n",
            "Epoch 2/10\n",
            "63/63 [==============================] - 9s 133ms/step - loss: 2.4185 - accuracy: 0.5465 - val_loss: 1.3784 - val_accuracy: 0.5300\n",
            "Epoch 3/10\n",
            "63/63 [==============================] - 11s 169ms/step - loss: 1.1582 - accuracy: 0.5550 - val_loss: 0.8870 - val_accuracy: 0.5140\n",
            "Epoch 4/10\n",
            "63/63 [==============================] - 11s 169ms/step - loss: 0.8841 - accuracy: 0.5515 - val_loss: 1.3786 - val_accuracy: 0.5060\n",
            "Epoch 5/10\n",
            "63/63 [==============================] - 9s 139ms/step - loss: 0.7444 - accuracy: 0.5690 - val_loss: 0.8047 - val_accuracy: 0.5755\n",
            "Epoch 6/10\n",
            "63/63 [==============================] - 9s 144ms/step - loss: 0.6814 - accuracy: 0.6035 - val_loss: 0.7279 - val_accuracy: 0.5360\n",
            "Epoch 7/10\n",
            "63/63 [==============================] - 11s 169ms/step - loss: 0.6883 - accuracy: 0.6180 - val_loss: 0.7226 - val_accuracy: 0.5395\n",
            "Epoch 8/10\n",
            "63/63 [==============================] - 12s 175ms/step - loss: 0.6781 - accuracy: 0.6265 - val_loss: 0.6630 - val_accuracy: 0.6120\n",
            "Epoch 9/10\n",
            "63/63 [==============================] - 12s 180ms/step - loss: 0.6363 - accuracy: 0.6280 - val_loss: 0.6694 - val_accuracy: 0.5905\n",
            "Epoch 10/10\n",
            "63/63 [==============================] - 11s 175ms/step - loss: 0.6459 - accuracy: 0.6410 - val_loss: 0.7013 - val_accuracy: 0.6225\n"
          ]
        }
      ]
    },
    {
      "cell_type": "code",
      "source": [
        "import matplotlib.pyplot as plt\n",
        "plt.plot(history.history['accuracy'], color='red',label='train')\n",
        "plt.plot(history.history['val_accuracy'], color='blue',label='validation')\n",
        "plt.legend()\n",
        "plt.show()"
      ],
      "metadata": {
        "colab": {
          "base_uri": "https://localhost:8080/",
          "height": 430
        },
        "id": "V_RplsY_jdZK",
        "outputId": "6b468172-24a3-41e6-8cde-eea44e917dae"
      },
      "execution_count": 18,
      "outputs": [
        {
          "output_type": "display_data",
          "data": {
            "text/plain": [
              "<Figure size 640x480 with 1 Axes>"
            ],
            "image/png": "[encoded data removed]"
          },
          "metadata": {}
        }
      ]
    },
    {
      "cell_type": "code",
      "source": [
        "plt.plot(history.history['loss'], color='red',label='train')\n",
        "plt.plot(history.history['val_loss'], color='blue',label='validation')\n",
        "plt.legend()\n",
        "plt.show()"
      ],
      "metadata": {
        "colab": {
          "base_uri": "https://localhost:8080/",
          "height": 430
        },
        "id": "zqagtQp2j_m6",
        "outputId": "f5b017e8-f2f1-4943-e837-b21a8cc5dc75"
      },
      "execution_count": 19,
      "outputs": [
        {
          "output_type": "display_data",
          "data": {
            "text/plain": [
              "<Figure size 640x480 with 1 Axes>"
            ],
            "image/png": "[encoded data removed]"
          },
          "metadata": {}
        }
      ]
    }
  ]
}